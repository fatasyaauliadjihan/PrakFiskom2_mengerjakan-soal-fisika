{
  "nbformat": 4,
  "nbformat_minor": 0,
  "metadata": {
    "colab": {
      "provenance": []
    },
    "kernelspec": {
      "name": "python3",
      "display_name": "Python 3"
    },
    "language_info": {
      "name": "python"
    }
  },
  "cells": [
    {
      "cell_type": "code",
      "execution_count": null,
      "metadata": {
        "id": "BLlF6gkJ32Hb"
      },
      "outputs": [],
      "source": []
    },
    {
      "cell_type": "markdown",
      "source": [
        "Sebuah mobil melakukan kerja sebesar 800.000 joule untuk menempuh jarak 1 kilometer dengan kelajuan tetap. Besar gaya yang dilakukan mobil tersebut adalah"
      ],
      "metadata": {
        "id": "5M1MNwZc38Dm"
      }
    },
    {
      "cell_type": "code",
      "source": [
        "# Menghitung besar gaya berdasarkan kerja yang dilakukan oleh mobil\n",
        "\n",
        "# Fungsi untuk menghitung besar gaya\n",
        "def hitung_besar_gaya(kerja, jarak):\n",
        "    return kerja / jarak\n",
        "\n",
        "# Input nilai kerja (dalam joule) dan jarak (dalam meter)\n",
        "kerja = 800000  # misalnya 800,000 Joule\n",
        "jarak = 1000    # misalnya 1 kilometer = 1000 meter\n",
        "\n",
        "# Menghitung besar gaya\n",
        "besar_gaya = hitung_besar_gaya(kerja, jarak)\n",
        "\n",
        "# Menampilkan hasil\n",
        "print(f\"Besar gaya yang dilakukan mobil: {besar_gaya} Newton\")\n"
      ],
      "metadata": {
        "colab": {
          "base_uri": "https://localhost:8080/"
        },
        "id": "2xKaDBI1395Z",
        "outputId": "dc8139da-19fc-40cc-a609-f46c83c3221b"
      },
      "execution_count": 1,
      "outputs": [
        {
          "output_type": "stream",
          "name": "stdout",
          "text": [
            "Besar gaya yang dilakukan mobil: 800.0 Newton\n"
          ]
        }
      ]
    }
  ]
}